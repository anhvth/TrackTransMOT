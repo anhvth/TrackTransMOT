{
 "cells": [
  {
   "cell_type": "code",
   "execution_count": 1,
   "metadata": {},
   "outputs": [],
   "source": [
    "%load_ext autoreload\n",
    "%autoreload 2"
   ]
  },
  {
   "cell_type": "code",
   "execution_count": 2,
   "metadata": {},
   "outputs": [],
   "source": [
    "import _init_paths\n",
    "from glob import glob\n",
    "import os\n",
    "import mmcv\n"
   ]
  },
  {
   "cell_type": "code",
   "execution_count": 23,
   "metadata": {},
   "outputs": [],
   "source": [
    "data = {\n",
    "    \"root\":\"/data/JDE\",\n",
    "    \"train\":\n",
    "    {\n",
    "        \"mot17\":\"./data/mot17.train\",\n",
    "        \"caltech\":\"./data/caltech.train\",\n",
    "        \"citypersons\":\"./data/citypersons.train\",\n",
    "        \"cuhksysu\":\"./data/cuhksysu.train\",\n",
    "        \"prw\":\"./data/prw.train\",\n",
    "        \"eth\":\"./data/eth.train\"\n",
    "    },\n",
    "    \"test_emb\":\n",
    "    {\n",
    "        \"mot15\":\"./data/mot15.val\"\n",
    "    },\n",
    "    \"test\":\n",
    "    {\n",
    "        \"mot15\":\"./data/mot15.val\"\n",
    "    }\n",
    "}\n"
   ]
  },
  {
   "cell_type": "code",
   "execution_count": 24,
   "metadata": {},
   "outputs": [],
   "source": [
    "# from lib.datasets.dataset.jde import DetDataset"
   ]
  },
  {
   "cell_type": "code",
   "execution_count": 25,
   "metadata": {},
   "outputs": [],
   "source": [
    "from datasets.dataset.jde import DetDataset, collate_fn\n"
   ]
  },
  {
   "cell_type": "code",
   "execution_count": 26,
   "metadata": {},
   "outputs": [
    {
     "name": "stdout",
     "output_type": "stream",
     "text": [
      "================================================================================\n",
      "dataset summary\n",
      "OrderedDict([('mot17', 1520.0), ('caltech', 1043.0), ('citypersons', 0), ('cuhksysu', 11931.0), ('prw', 933.0), ('eth', 0)])\n",
      "total # identities: 15428\n",
      "start index\n",
      "OrderedDict([('mot17', 0), ('caltech', 1520.0), ('citypersons', 2563.0), ('cuhksysu', 2563.0), ('prw', 14494.0), ('eth', 15427.0)])\n",
      "================================================================================\n"
     ]
    }
   ],
   "source": [
    "img_size=(1088, 608)\n",
    "dataset = DetDataset(data['root'], data['train'], img_size, augment=False, transforms=None)"
   ]
  },
  {
   "cell_type": "code",
   "execution_count": null,
   "metadata": {},
   "outputs": [],
   "source": [
    "dataset."
   ]
  },
  {
   "cell_type": "code",
   "execution_count": 13,
   "metadata": {},
   "outputs": [],
   "source": [
    "s1 = '/data/JDE/Caltech/data/labels_with_ids/set04_V010_879.txt'\n",
    "s2 = '/data/JDE/caltech/data/labels_with_ids/set04_V010_879.txt'"
   ]
  },
  {
   "cell_type": "code",
   "execution_count": 14,
   "metadata": {},
   "outputs": [
    {
     "data": {
      "text/plain": [
       "False"
      ]
     },
     "execution_count": 14,
     "metadata": {},
     "output_type": "execute_result"
    }
   ],
   "source": []
  },
  {
   "cell_type": "code",
   "execution_count": null,
   "metadata": {},
   "outputs": [],
   "source": []
  }
 ],
 "metadata": {
  "kernelspec": {
   "display_name": "Python 3",
   "language": "python",
   "name": "python3"
  },
  "language_info": {
   "codemirror_mode": {
    "name": "ipython",
    "version": 3
   },
   "file_extension": ".py",
   "mimetype": "text/x-python",
   "name": "python",
   "nbconvert_exporter": "python",
   "pygments_lexer": "ipython3",
   "version": "3.7.7"
  }
 },
 "nbformat": 4,
 "nbformat_minor": 4
}
