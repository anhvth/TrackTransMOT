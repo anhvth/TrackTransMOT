{
 "cells": [
  {
   "cell_type": "code",
   "execution_count": 33,
   "metadata": {},
   "outputs": [],
   "source": [
    "from glob import glob\n",
    "import os\n",
    "from tqdm import tqdm\n",
    "from pyson.utils import multi_thread\n",
    "import numpy as np\n",
    "from pyson.vision import *\n",
    "import itertools\n",
    "from lib.tracking_utils import visualization as vis"
   ]
  },
  {
   "cell_type": "code",
   "execution_count": 2,
   "metadata": {},
   "outputs": [],
   "source": [
    "def read_img_by_fid(frame_id):\n",
    "    path = '../ori_images/{:05d}.jpg'.format(int(frame_id-1))\n",
    "    img = cv2.imread(path)\n",
    "    assert img is not None, path\n",
    "    img = cv2.resize(img, (1920, 1080))\n",
    "    return {frame_id: img}\n",
    "\n"
   ]
  },
  {
   "cell_type": "code",
   "execution_count": 3,
   "metadata": {},
   "outputs": [],
   "source": [
    "txt_path = '../results/results.txt'\n",
    "ori_imgs = glob('../ori_images/*.jpg')\n",
    "ori_imgs\n",
    "def fmat(line):\n",
    "    frame,id,x1,y1,w,h = line.split(',')[:6]\n",
    "    fn = '../ori_images/00{:05d}.jpg'.format(int(frame))\n",
    "#     assert os.path.exists(fn)\n",
    "    return int(frame),int(id),float(x1),float(y1),float(w),float(h)\n",
    "\n",
    "lines = open(txt_path).readlines()\n",
    "lines = np.array([fmat(line) for line in lines])"
   ]
  },
  {
   "cell_type": "code",
   "execution_count": null,
   "metadata": {},
   "outputs": [],
   "source": []
  },
  {
   "cell_type": "code",
   "execution_count": 26,
   "metadata": {},
   "outputs": [],
   "source": [
    "obj_ids = np.unique(lines[:,1]).astype(int)\n",
    "frame_ids = np.unique(lines[:,0].astype(int))\n",
    "max_frame = max(frame_ids)+1\n"
   ]
  },
  {
   "cell_type": "code",
   "execution_count": 27,
   "metadata": {},
   "outputs": [
    {
     "name": "stderr",
     "output_type": "stream",
     "text": [
      "Executing Pipeline: 100%|██████████| 1283/1283 [00:03<00:00, 377.24 Samples/s]"
     ]
    },
    {
     "name": "stdout",
     "output_type": "stream",
     "text": [
      "Finished\n"
     ]
    },
    {
     "name": "stderr",
     "output_type": "stream",
     "text": [
      "\n"
     ]
    }
   ],
   "source": [
    "rts = multi_thread(read_img_by_fid, frame_ids, verbose=True)\n",
    "frameid_to_imgage = dict()\n",
    "for rt in rts: frameid_to_imgage.update(rt)"
   ]
  },
  {
   "cell_type": "code",
   "execution_count": 6,
   "metadata": {},
   "outputs": [],
   "source": [
    "# exist_matrix_box = np.zeros([int(max(frame_ids))+1, int(max(obj_ids))+1, 4])\n",
    "# exist_matrix = np.zeros([int(max(frame_ids))+1, int(max(obj_ids))+1, 4])"
   ]
  },
  {
   "cell_type": "code",
   "execution_count": 28,
   "metadata": {},
   "outputs": [],
   "source": [
    "def get_filled_array(obj_id, min_accepted=10):\n",
    "    exist_array = np.zeros([1, max_frame])\n",
    "    all_ids_obj = np.nonzero((lines[:,1] == obj_id))\n",
    "\n",
    "    all_lines_obj = lines[all_ids_obj]\n",
    "    obj_frame_ids = all_lines_obj[:,0].astype(int)\n",
    "    exist_array[0, obj_frame_ids] = 1\n",
    "    if exist_array.sum() > min_accepted:\n",
    "        ids = np.nonzero(exist_array)[1]\n",
    "        min_id = min(ids)\n",
    "        max_id = max(ids)\n",
    "        all_ids = list(range(min_id, max_id))\n",
    "        missing_ids = list(set(all_ids)-set(ids))\n",
    "        missing_ids = list(sorted(missing_ids))\n",
    "\n",
    "        for missing_id in missing_ids:\n",
    "            id_tobe_copied = max(obj_frame_ids[obj_frame_ids<missing_id])\n",
    "\n",
    "            copied_line = all_lines_obj[all_lines_obj[:,0] == id_tobe_copied]\n",
    "            copied_line[0, 0] = missing_id\n",
    "            all_lines_obj = np.concatenate([all_lines_obj, copied_line])\n",
    "    else:\n",
    "        all_lines_obj = all_lines_obj[all_lines_obj[:,1] != obj_id]\n",
    "        \n",
    "        \n",
    "    print(all_lines_obj.shape)\n",
    "    return all_lines_obj"
   ]
  },
  {
   "cell_type": "code",
   "execution_count": 29,
   "metadata": {
    "scrolled": true
   },
   "outputs": [
    {
     "name": "stdout",
     "output_type": "stream",
     "text": [
      "(1269, 6)\n",
      "(66, 6)\n",
      "(258, 6)\n",
      "(306, 6)\n",
      "(454, 6)\n",
      "(113, 6)\n",
      "(560, 6)\n",
      "(169, 6)\n",
      "(121, 6)\n",
      "(97, 6)\n",
      "(68, 6)\n",
      "(70, 6)\n",
      "(122, 6)\n",
      "(42, 6)\n",
      "(819, 6)\n",
      "(0, 6)\n",
      "(0, 6)\n",
      "(249, 6)\n",
      "(0, 6)\n",
      "(0, 6)\n",
      "(52, 6)\n",
      "(0, 6)\n",
      "(346, 6)\n",
      "(0, 6)\n",
      "(30, 6)\n",
      "(132, 6)\n",
      "(202, 6)\n",
      "(57, 6)\n",
      "(0, 6)\n",
      "(69, 6)\n",
      "(0, 6)\n",
      "(1142, 6)\n",
      "(36, 6)\n",
      "(0, 6)\n",
      "(0, 6)\n",
      "(0, 6)\n",
      "(171, 6)\n",
      "(0, 6)\n",
      "(1106, 6)\n",
      "(24, 6)\n",
      "(56, 6)\n",
      "(36, 6)\n",
      "(0, 6)\n",
      "(0, 6)\n",
      "(0, 6)\n",
      "(101, 6)\n",
      "(109, 6)\n",
      "(199, 6)\n",
      "(39, 6)\n",
      "(0, 6)\n",
      "(0, 6)\n",
      "(0, 6)\n",
      "(169, 6)\n",
      "(41, 6)\n",
      "(476, 6)\n",
      "(0, 6)\n",
      "(55, 6)\n",
      "(54, 6)\n",
      "(11, 6)\n",
      "(280, 6)\n",
      "(0, 6)\n",
      "(37, 6)\n",
      "(151, 6)\n",
      "(15, 6)\n",
      "(0, 6)\n",
      "(42, 6)\n",
      "(38, 6)\n",
      "(703, 6)\n",
      "(0, 6)\n",
      "(806, 6)\n",
      "(91, 6)\n",
      "(28, 6)\n",
      "(229, 6)\n",
      "(0, 6)\n",
      "(0, 6)\n",
      "(410, 6)\n",
      "(0, 6)\n",
      "(28, 6)\n",
      "(0, 6)\n",
      "(30, 6)\n",
      "(0, 6)\n",
      "(44, 6)\n",
      "(0, 6)\n",
      "(21, 6)\n",
      "(15, 6)\n",
      "(0, 6)\n",
      "(0, 6)\n",
      "(0, 6)\n",
      "(0, 6)\n",
      "(0, 6)\n",
      "(0, 6)\n",
      "(25, 6)\n",
      "(0, 6)\n",
      "(102, 6)\n",
      "(83, 6)\n",
      "(24, 6)\n",
      "(0, 6)\n",
      "(0, 6)\n",
      "(23, 6)\n",
      "(374, 6)\n",
      "(156, 6)\n",
      "(0, 6)\n",
      "(0, 6)\n",
      "(0, 6)\n",
      "(0, 6)\n",
      "(238, 6)\n",
      "(0, 6)\n",
      "(0, 6)\n",
      "(0, 6)\n",
      "(44, 6)\n",
      "(0, 6)\n",
      "(0, 6)\n",
      "(258, 6)\n",
      "(12, 6)\n",
      "(0, 6)\n",
      "(0, 6)\n",
      "(31, 6)\n",
      "(0, 6)\n",
      "(375, 6)\n",
      "(0, 6)\n",
      "(19, 6)\n",
      "(338, 6)\n",
      "(0, 6)\n",
      "(0, 6)\n",
      "(95, 6)\n",
      "(261, 6)\n",
      "(59, 6)\n",
      "(34, 6)\n",
      "(42, 6)\n",
      "(0, 6)\n",
      "(0, 6)\n",
      "(487, 6)\n",
      "(149, 6)\n",
      "(0, 6)\n",
      "(0, 6)\n",
      "(0, 6)\n",
      "(34, 6)\n",
      "(15, 6)\n",
      "(0, 6)\n",
      "(0, 6)\n",
      "(43, 6)\n",
      "(181, 6)\n",
      "(0, 6)\n",
      "(0, 6)\n",
      "(53, 6)\n",
      "(11, 6)\n",
      "(24, 6)\n",
      "(0, 6)\n",
      "(0, 6)\n",
      "(57, 6)\n",
      "(0, 6)\n",
      "(0, 6)\n",
      "(0, 6)\n",
      "(13, 6)\n",
      "(17, 6)\n",
      "(0, 6)\n",
      "(155, 6)\n",
      "(75, 6)\n",
      "(0, 6)\n",
      "(16, 6)\n",
      "(0, 6)\n",
      "(19, 6)\n",
      "(20, 6)\n",
      "(0, 6)\n",
      "(164, 6)\n",
      "(0, 6)\n",
      "(272, 6)\n",
      "(0, 6)\n",
      "(0, 6)\n",
      "(0, 6)\n",
      "(0, 6)\n",
      "(0, 6)\n",
      "(0, 6)\n",
      "(57, 6)\n",
      "(0, 6)\n",
      "(223, 6)\n",
      "(0, 6)\n",
      "(41, 6)\n",
      "(182, 6)\n",
      "(0, 6)\n",
      "(0, 6)\n",
      "(38, 6)\n",
      "(0, 6)\n",
      "(0, 6)\n",
      "(150, 6)\n",
      "(24, 6)\n",
      "(135, 6)\n",
      "(135, 6)\n",
      "(0, 6)\n",
      "(0, 6)\n",
      "(0, 6)\n",
      "(0, 6)\n",
      "(0, 6)\n",
      "(67, 6)\n",
      "(50, 6)\n",
      "(0, 6)\n",
      "(49, 6)\n",
      "(0, 6)\n",
      "(33, 6)\n",
      "(0, 6)\n",
      "(0, 6)\n"
     ]
    },
    {
     "data": {
      "text/plain": [
       "18046"
      ]
     },
     "execution_count": 29,
     "metadata": {},
     "output_type": "execute_result"
    }
   ],
   "source": [
    "results = []\n",
    "for obj_id in obj_ids:\n",
    "    all_lines_obj = get_filled_array(obj_id)\n",
    "    results.append(all_lines_obj)\n",
    "    \n",
    "results = np.concatenate(results)\n",
    "len(results)"
   ]
  },
  {
   "cell_type": "code",
   "execution_count": null,
   "metadata": {},
   "outputs": [],
   "source": []
  },
  {
   "cell_type": "code",
   "execution_count": null,
   "metadata": {},
   "outputs": [],
   "source": []
  },
  {
   "cell_type": "code",
   "execution_count": null,
   "metadata": {},
   "outputs": [],
   "source": []
  },
  {
   "cell_type": "code",
   "execution_count": 46,
   "metadata": {},
   "outputs": [
    {
     "name": "stderr",
     "output_type": "stream",
     "text": [
      "100%|██████████| 1283/1283 [00:00<00:00, 8047.36it/s]\n"
     ]
    }
   ],
   "source": [
    "# frame_id, obj_id, x,y,w,h = all_lines_obj[0] \n",
    "imgs = []\n",
    "num_smaples = []\n",
    "for frame_id in tqdm(frame_ids):\n",
    "    img0 = frameid_to_imgage[frame_id]\n",
    "    online_tlwhs = results[results[:,0] == frame_id][:,2:]\n",
    "    online_ids = results[results[:,0] == frame_id][:,1].astype(int)\n",
    "    num_smaples.append(len(online_tlwhs))\n",
    "#     online_im = vis.plot_tracking(img0, online_tlwhs, online_ids, frame_id=frame_id, fps=1)\n",
    "#     imgs.append(online_im)"
   ]
  },
  {
   "cell_type": "code",
   "execution_count": 49,
   "metadata": {},
   "outputs": [],
   "source": [
    "counts = np.array(num_smaples)\n",
    "np.save('count_by_frame', counts)"
   ]
  },
  {
   "cell_type": "code",
   "execution_count": null,
   "metadata": {},
   "outputs": [],
   "source": []
  }
 ],
 "metadata": {
  "kernelspec": {
   "display_name": "Python 3",
   "language": "python",
   "name": "python3"
  },
  "language_info": {
   "codemirror_mode": {
    "name": "ipython",
    "version": 3
   },
   "file_extension": ".py",
   "mimetype": "text/x-python",
   "name": "python",
   "nbconvert_exporter": "python",
   "pygments_lexer": "ipython3",
   "version": "3.7.7"
  }
 },
 "nbformat": 4,
 "nbformat_minor": 4
}
